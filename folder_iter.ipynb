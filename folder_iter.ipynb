{
 "cells": [
  {
   "cell_type": "markdown",
   "metadata": {},
   "source": [
    "## Purpose: To create a CSV of all files to be segmented"
   ]
  },
  {
   "cell_type": "markdown",
   "metadata": {},
   "source": [
    "Creation Date: 12-15-21\n",
    "\n",
    "Created By: Hawley Helmbrecht"
   ]
  },
  {
   "cell_type": "markdown",
   "metadata": {},
   "source": [
    "*Step 1: Import necessary Packages*"
   ]
  },
  {
   "cell_type": "code",
   "execution_count": 75,
   "metadata": {},
   "outputs": [],
   "source": [
    "import pathlib\n",
    "import pandas as pd"
   ]
  },
  {
   "cell_type": "markdown",
   "metadata": {},
   "source": [
    "*Step 2: User Defined Variables*"
   ]
  },
  {
   "cell_type": "code",
   "execution_count": 76,
   "metadata": {},
   "outputs": [],
   "source": [
    "#copy the path to the highest level of the folder directory\n",
    "exp_dir = '/Users/hhelmbre/Desktop/packages/microFIBER/example_data/example_file_structure'\n",
    "\n",
    "#write in the correct filetype - at the moment the whole process ONLY works for .tif images\n",
    "file_type = '*.tif'\n",
    "\n",
    "#type in your experiment name\n",
    "experiment_name = 'experiment_1023_helmbrecht'"
   ]
  },
  {
   "cell_type": "code",
   "execution_count": 109,
   "metadata": {},
   "outputs": [],
   "source": [
    "# LEAVE 'filepath'\n",
    "# Remove all other variables that are not within your folder directory. \n",
    "# Each comma separated value should correspond to a level of folders within the directory\n",
    "\n",
    "select_columns = ['filepath', \n",
    "                  'experiment_name', \n",
    "                  'stain', \n",
    "                  'time_point', \n",
    "                  'treatment', \n",
    "                  'sex', \n",
    "                  'age', \n",
    "                  'regions', \n",
    "                  'magnification', \n",
    "                  'filename']"
   ]
  },
  {
   "cell_type": "markdown",
   "metadata": {},
   "source": [
    "### AFTER the above step run all following cells without modification"
   ]
  },
  {
   "cell_type": "markdown",
   "metadata": {},
   "source": [
    "*Step 3: Getting the filepaths to all image files within the entire folder structure*"
   ]
  },
  {
   "cell_type": "code",
   "execution_count": 78,
   "metadata": {},
   "outputs": [],
   "source": [
    "path_list = []\n",
    "\n",
    "pathlist = pathlib.Path(exp_dir).rglob(file_type)\n",
    "for path in pathlist:\n",
    "     # because path is object not string\n",
    "    path_in_str = str(path)\n",
    "    path_list.append(path_in_str)"
   ]
  },
  {
   "cell_type": "markdown",
   "metadata": {},
   "source": [
    "*Step 4: Appending all the filepaths with their categorical tags to a pandas dataframe for download as a .csv file later*"
   ]
  },
  {
   "cell_type": "code",
   "execution_count": 110,
   "metadata": {},
   "outputs": [],
   "source": [
    "df = pd.DataFrame(columns = select_columns)\n",
    "\n",
    "#Testing where the experiment name index is\n",
    "x = path_list[0].split(\"/\")\n",
    "exp_index = x.index(experiment_name)\n",
    "\n",
    "j = 0\n",
    "for paths in path_list:\n",
    "    x = paths.split(\"/\")\n",
    "    df.at[j, 'filepath'] = paths\n",
    "    \n",
    "    small_select_columns = select_columns[1:]\n",
    "    k = 0\n",
    "    for values in small_select_columns:\n",
    "        df.at[j, values] = x[exp_index + k]\n",
    "        k += 1\n",
    "    \n",
    "    j +=1"
   ]
  },
  {
   "cell_type": "markdown",
   "metadata": {},
   "source": [
    "*Visual Check 1: Make sure the answers in the dataframe below accurately represent your data set*"
   ]
  },
  {
   "cell_type": "code",
   "execution_count": 111,
   "metadata": {},
   "outputs": [
    {
     "data": {
      "text/html": [
       "<div>\n",
       "<style scoped>\n",
       "    .dataframe tbody tr th:only-of-type {\n",
       "        vertical-align: middle;\n",
       "    }\n",
       "\n",
       "    .dataframe tbody tr th {\n",
       "        vertical-align: top;\n",
       "    }\n",
       "\n",
       "    .dataframe thead th {\n",
       "        text-align: right;\n",
       "    }\n",
       "</style>\n",
       "<table border=\"1\" class=\"dataframe\">\n",
       "  <thead>\n",
       "    <tr style=\"text-align: right;\">\n",
       "      <th></th>\n",
       "      <th>filepath</th>\n",
       "      <th>experiment_name</th>\n",
       "      <th>stain</th>\n",
       "      <th>time_point</th>\n",
       "      <th>treatment</th>\n",
       "      <th>sex</th>\n",
       "      <th>age</th>\n",
       "      <th>regions</th>\n",
       "      <th>magnification</th>\n",
       "      <th>filename</th>\n",
       "    </tr>\n",
       "  </thead>\n",
       "  <tbody>\n",
       "    <tr>\n",
       "      <th>0</th>\n",
       "      <td>/Users/hhelmbre/Desktop/packages/microFIBER/ex...</td>\n",
       "      <td>experiment_1023_helmbrecht</td>\n",
       "      <td>iba1</td>\n",
       "      <td>24hr</td>\n",
       "      <td>non-treated control</td>\n",
       "      <td>male</td>\n",
       "      <td>p28</td>\n",
       "      <td>cortex</td>\n",
       "      <td>60x</td>\n",
       "      <td>example_image1.tif</td>\n",
       "    </tr>\n",
       "    <tr>\n",
       "      <th>1</th>\n",
       "      <td>/Users/hhelmbre/Desktop/packages/microFIBER/ex...</td>\n",
       "      <td>experiment_1023_helmbrecht</td>\n",
       "      <td>iba1</td>\n",
       "      <td>24hr</td>\n",
       "      <td>non-treated control</td>\n",
       "      <td>male</td>\n",
       "      <td>p28</td>\n",
       "      <td>cortex</td>\n",
       "      <td>60x</td>\n",
       "      <td>example_image2.tif</td>\n",
       "    </tr>\n",
       "    <tr>\n",
       "      <th>2</th>\n",
       "      <td>/Users/hhelmbre/Desktop/packages/microFIBER/ex...</td>\n",
       "      <td>experiment_1023_helmbrecht</td>\n",
       "      <td>iba1</td>\n",
       "      <td>24hr</td>\n",
       "      <td>non-treated control</td>\n",
       "      <td>male</td>\n",
       "      <td>p28</td>\n",
       "      <td>cortex</td>\n",
       "      <td>40x</td>\n",
       "      <td>example_image1.tif</td>\n",
       "    </tr>\n",
       "    <tr>\n",
       "      <th>3</th>\n",
       "      <td>/Users/hhelmbre/Desktop/packages/microFIBER/ex...</td>\n",
       "      <td>experiment_1023_helmbrecht</td>\n",
       "      <td>iba1</td>\n",
       "      <td>24hr</td>\n",
       "      <td>non-treated control</td>\n",
       "      <td>male</td>\n",
       "      <td>p28</td>\n",
       "      <td>cortex</td>\n",
       "      <td>40x</td>\n",
       "      <td>example_image2.tif</td>\n",
       "    </tr>\n",
       "    <tr>\n",
       "      <th>4</th>\n",
       "      <td>/Users/hhelmbre/Desktop/packages/microFIBER/ex...</td>\n",
       "      <td>experiment_1023_helmbrecht</td>\n",
       "      <td>iba1</td>\n",
       "      <td>24hr</td>\n",
       "      <td>non-treated control</td>\n",
       "      <td>male</td>\n",
       "      <td>p28</td>\n",
       "      <td>hippocampus</td>\n",
       "      <td>60x</td>\n",
       "      <td>example_image1.tif</td>\n",
       "    </tr>\n",
       "    <tr>\n",
       "      <th>...</th>\n",
       "      <td>...</td>\n",
       "      <td>...</td>\n",
       "      <td>...</td>\n",
       "      <td>...</td>\n",
       "      <td>...</td>\n",
       "      <td>...</td>\n",
       "      <td>...</td>\n",
       "      <td>...</td>\n",
       "      <td>...</td>\n",
       "      <td>...</td>\n",
       "    </tr>\n",
       "    <tr>\n",
       "      <th>251</th>\n",
       "      <td>/Users/hhelmbre/Desktop/packages/microFIBER/ex...</td>\n",
       "      <td>experiment_1023_helmbrecht</td>\n",
       "      <td>dapi</td>\n",
       "      <td>0hr</td>\n",
       "      <td>treatment</td>\n",
       "      <td>female</td>\n",
       "      <td>p7</td>\n",
       "      <td>cortex</td>\n",
       "      <td>40x</td>\n",
       "      <td>example_image2.tif</td>\n",
       "    </tr>\n",
       "    <tr>\n",
       "      <th>252</th>\n",
       "      <td>/Users/hhelmbre/Desktop/packages/microFIBER/ex...</td>\n",
       "      <td>experiment_1023_helmbrecht</td>\n",
       "      <td>dapi</td>\n",
       "      <td>0hr</td>\n",
       "      <td>treatment</td>\n",
       "      <td>female</td>\n",
       "      <td>p7</td>\n",
       "      <td>hippocampus</td>\n",
       "      <td>60x</td>\n",
       "      <td>example_image1.tif</td>\n",
       "    </tr>\n",
       "    <tr>\n",
       "      <th>253</th>\n",
       "      <td>/Users/hhelmbre/Desktop/packages/microFIBER/ex...</td>\n",
       "      <td>experiment_1023_helmbrecht</td>\n",
       "      <td>dapi</td>\n",
       "      <td>0hr</td>\n",
       "      <td>treatment</td>\n",
       "      <td>female</td>\n",
       "      <td>p7</td>\n",
       "      <td>hippocampus</td>\n",
       "      <td>60x</td>\n",
       "      <td>example_image2.tif</td>\n",
       "    </tr>\n",
       "    <tr>\n",
       "      <th>254</th>\n",
       "      <td>/Users/hhelmbre/Desktop/packages/microFIBER/ex...</td>\n",
       "      <td>experiment_1023_helmbrecht</td>\n",
       "      <td>dapi</td>\n",
       "      <td>0hr</td>\n",
       "      <td>treatment</td>\n",
       "      <td>female</td>\n",
       "      <td>p7</td>\n",
       "      <td>hippocampus</td>\n",
       "      <td>40x</td>\n",
       "      <td>example_image1.tif</td>\n",
       "    </tr>\n",
       "    <tr>\n",
       "      <th>255</th>\n",
       "      <td>/Users/hhelmbre/Desktop/packages/microFIBER/ex...</td>\n",
       "      <td>experiment_1023_helmbrecht</td>\n",
       "      <td>dapi</td>\n",
       "      <td>0hr</td>\n",
       "      <td>treatment</td>\n",
       "      <td>female</td>\n",
       "      <td>p7</td>\n",
       "      <td>hippocampus</td>\n",
       "      <td>40x</td>\n",
       "      <td>example_image2.tif</td>\n",
       "    </tr>\n",
       "  </tbody>\n",
       "</table>\n",
       "<p>256 rows × 10 columns</p>\n",
       "</div>"
      ],
      "text/plain": [
       "                                              filepath  \\\n",
       "0    /Users/hhelmbre/Desktop/packages/microFIBER/ex...   \n",
       "1    /Users/hhelmbre/Desktop/packages/microFIBER/ex...   \n",
       "2    /Users/hhelmbre/Desktop/packages/microFIBER/ex...   \n",
       "3    /Users/hhelmbre/Desktop/packages/microFIBER/ex...   \n",
       "4    /Users/hhelmbre/Desktop/packages/microFIBER/ex...   \n",
       "..                                                 ...   \n",
       "251  /Users/hhelmbre/Desktop/packages/microFIBER/ex...   \n",
       "252  /Users/hhelmbre/Desktop/packages/microFIBER/ex...   \n",
       "253  /Users/hhelmbre/Desktop/packages/microFIBER/ex...   \n",
       "254  /Users/hhelmbre/Desktop/packages/microFIBER/ex...   \n",
       "255  /Users/hhelmbre/Desktop/packages/microFIBER/ex...   \n",
       "\n",
       "                experiment_name stain time_point            treatment     sex  \\\n",
       "0    experiment_1023_helmbrecht  iba1       24hr  non-treated control    male   \n",
       "1    experiment_1023_helmbrecht  iba1       24hr  non-treated control    male   \n",
       "2    experiment_1023_helmbrecht  iba1       24hr  non-treated control    male   \n",
       "3    experiment_1023_helmbrecht  iba1       24hr  non-treated control    male   \n",
       "4    experiment_1023_helmbrecht  iba1       24hr  non-treated control    male   \n",
       "..                          ...   ...        ...                  ...     ...   \n",
       "251  experiment_1023_helmbrecht  dapi        0hr            treatment  female   \n",
       "252  experiment_1023_helmbrecht  dapi        0hr            treatment  female   \n",
       "253  experiment_1023_helmbrecht  dapi        0hr            treatment  female   \n",
       "254  experiment_1023_helmbrecht  dapi        0hr            treatment  female   \n",
       "255  experiment_1023_helmbrecht  dapi        0hr            treatment  female   \n",
       "\n",
       "     age      regions magnification            filename  \n",
       "0    p28       cortex           60x  example_image1.tif  \n",
       "1    p28       cortex           60x  example_image2.tif  \n",
       "2    p28       cortex           40x  example_image1.tif  \n",
       "3    p28       cortex           40x  example_image2.tif  \n",
       "4    p28  hippocampus           60x  example_image1.tif  \n",
       "..   ...          ...           ...                 ...  \n",
       "251   p7       cortex           40x  example_image2.tif  \n",
       "252   p7  hippocampus           60x  example_image1.tif  \n",
       "253   p7  hippocampus           60x  example_image2.tif  \n",
       "254   p7  hippocampus           40x  example_image1.tif  \n",
       "255   p7  hippocampus           40x  example_image2.tif  \n",
       "\n",
       "[256 rows x 10 columns]"
      ]
     },
     "execution_count": 111,
     "metadata": {},
     "output_type": "execute_result"
    }
   ],
   "source": [
    "df"
   ]
  },
  {
   "cell_type": "markdown",
   "metadata": {},
   "source": [
    "*Step 5: Save the dataframe as a .csv*"
   ]
  },
  {
   "cell_type": "code",
   "execution_count": 46,
   "metadata": {},
   "outputs": [],
   "source": [
    "#Save df to csv\n",
    "\n",
    "#will do this later when I figure out the opt-inability of above"
   ]
  },
  {
   "cell_type": "code",
   "execution_count": null,
   "metadata": {},
   "outputs": [],
   "source": []
  },
  {
   "cell_type": "code",
   "execution_count": null,
   "metadata": {},
   "outputs": [],
   "source": []
  },
  {
   "cell_type": "code",
   "execution_count": null,
   "metadata": {},
   "outputs": [],
   "source": []
  }
 ],
 "metadata": {
  "kernelspec": {
   "display_name": "Python 3 (ipykernel)",
   "language": "python",
   "name": "python3"
  },
  "language_info": {
   "codemirror_mode": {
    "name": "ipython",
    "version": 3
   },
   "file_extension": ".py",
   "mimetype": "text/x-python",
   "name": "python",
   "nbconvert_exporter": "python",
   "pygments_lexer": "ipython3",
   "version": "3.10.0"
  }
 },
 "nbformat": 4,
 "nbformat_minor": 4
}
